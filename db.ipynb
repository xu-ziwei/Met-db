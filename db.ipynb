{
 "cells": [
  {
   "cell_type": "markdown",
   "metadata": {},
   "source": [
    "# Test"
   ]
  },
  {
   "cell_type": "code",
   "execution_count": 4,
   "metadata": {},
   "outputs": [
    {
     "name": "stdout",
     "output_type": "stream",
     "text": [
      "('39',)\n",
      "('40',)\n",
      "('41',)\n",
      "('42',)\n"
     ]
    }
   ],
   "source": [
    "import adodbapi\n",
    "\n",
    "\n",
    "\n",
    "partial_date = '11sept'\n",
    "\n",
    "conn_str = (\n",
    "    r'Provider=Microsoft.SQLSERVER.CE.OLEDB.4.0; Data Source=DataStore.sdf;'\n",
    ")\n",
    "connection = adodbapi.connect(conn_str)\n",
    "\n",
    "cursor = connection.cursor()\n",
    "\n",
    "search_term = \"%\" + partial_date + \"%\"\n",
    "query_job = f\"SELECT id FROM Job WHERE Name LIKE '{search_term}'\"\n",
    "cursor.execute(query_job)\n",
    "\n",
    "results = cursor.fetchall()\n",
    "\n",
    "for row in results:\n",
    "    print(row)\n",
    "\n",
    "\n"
   ]
  },
  {
   "cell_type": "code",
   "execution_count": 5,
   "metadata": {},
   "outputs": [
    {
     "name": "stdout",
     "output_type": "stream",
     "text": [
      "[39, 40, 41, 42]\n"
     ]
    }
   ],
   "source": [
    "search_term = 'test'\n",
    "\n",
    "conn_str = r'Provider=Microsoft.SQLSERVER.CE.OLEDB.4.0; Data Source=DataStore.sdf;'\n",
    "connection = adodbapi.connect(conn_str)\n",
    "cursor = connection.cursor()\n",
    "\n",
    "# Fetch job_id based on the search term\n",
    "\n",
    "search_term = \"%\" + partial_date + \"%\"\n",
    "query_job = f\"SELECT id FROM Job WHERE Name LIKE '{search_term}'\"\n",
    "cursor.execute(query_job)\n",
    "job_ids = [row[0] for row in cursor.fetchall()]\n",
    "print(job_ids)\n"
   ]
  },
  {
   "cell_type": "markdown",
   "metadata": {},
   "source": [
    "# Data base "
   ]
  },
  {
   "cell_type": "code",
   "execution_count": 6,
   "metadata": {},
   "outputs": [],
   "source": [
    "import adodbapi\n",
    "\n",
    "def search_database(search_term, well_name):\n",
    "    conn_str = r'Provider=Microsoft.SQLSERVER.CE.OLEDB.4.0; Data Source=DataStore.sdf;'\n",
    "    connection = adodbapi.connect(conn_str)\n",
    "    cursor = connection.cursor()\n",
    "\n",
    "    # Fetch job_id based on the search term\n",
    "    search_term = \"%\" + search_term + \"%\"\n",
    "    query_job = f\"SELECT id FROM Job WHERE Name LIKE '{search_term}'\"\n",
    "    cursor.execute(query_job)\n",
    "    job_ids = [row[0] for row in cursor.fetchall()]\n",
    "\n",
    "    paths = []\n",
    "\n",
    "    for job_id in job_ids:\n",
    "        scan_query = f\"SELECT OrderIndex FROM ScanArea WHERE AcquireSettings_id = {job_id} AND Name = '{well_name}'\"\n",
    "        cursor.execute(scan_query)\n",
    "        \n",
    "        for orderindex_row in cursor.fetchall():\n",
    "            orderindex = orderindex_row[0]\n",
    "\n",
    "            scan_query = f\"SELECT Enabled FROM ScanArea WHERE AcquireSettings_id = {job_id} AND Name = '{well_name}'\"\n",
    "            cursor.execute(scan_query)\n",
    "            for row in cursor.fetchall():\n",
    "                if row[0] == 1:\n",
    "                    full_path = f\"{job_id}/Acquire_0/{orderindex}\"\n",
    "                    paths.append(full_path)\n",
    "\n",
    "    cursor.close()\n",
    "    connection.close()\n",
    "\n",
    "    return paths\n"
   ]
  },
  {
   "cell_type": "code",
   "execution_count": 4,
   "metadata": {},
   "outputs": [
    {
     "data": {
      "text/plain": [
       "['39/Acquire_0/22', '40/Acquire_0/22', '41/Acquire_0/22', '42/Acquire_0/22']"
      ]
     },
     "execution_count": 4,
     "metadata": {},
     "output_type": "execute_result"
    }
   ],
   "source": [
    "search_database('sept','B2')"
   ]
  },
  {
   "cell_type": "code",
   "execution_count": 7,
   "metadata": {},
   "outputs": [],
   "source": [
    "import tkinter as tk\n",
    "from tkinter import ttk\n",
    "\n",
    "def on_search():\n",
    "    search_term = search_term_entry.get()\n",
    "    well_name = well_name_entry.get()\n",
    "    results = search_database(search_term, well_name)\n",
    "    \n",
    "    # Clearing the results box\n",
    "    results_listbox.delete(0, tk.END)\n",
    "    \n",
    "    for result in results:\n",
    "        results_listbox.insert(tk.END, result)\n",
    "\n",
    "# GUI setup\n",
    "app = tk.Tk()\n",
    "app.title(\"Search Database\")\n",
    "\n",
    "# Search term\n",
    "search_term_label = ttk.Label(app, text=\"Search Term:\")\n",
    "search_term_label.grid(column=0, row=0, padx=10, pady=10, sticky=tk.W)\n",
    "\n",
    "search_term_entry = ttk.Entry(app)\n",
    "search_term_entry.grid(column=1, row=0, padx=10, pady=10, sticky=tk.W + tk.E)\n",
    "\n",
    "# Well name\n",
    "well_name_label = ttk.Label(app, text=\"Well Name:\")\n",
    "well_name_label.grid(column=0, row=1, padx=10, pady=10, sticky=tk.W)\n",
    "\n",
    "well_name_entry = ttk.Entry(app)\n",
    "well_name_entry.grid(column=1, row=1, padx=10, pady=10, sticky=tk.W + tk.E)\n",
    "\n",
    "# Search button\n",
    "search_button = ttk.Button(app, text=\"Search\", command=on_search)\n",
    "search_button.grid(column=1, row=2, padx=10, pady=10)\n",
    "\n",
    "# Results listbox\n",
    "results_listbox = tk.Listbox(app, width=50, height=10)\n",
    "results_listbox.grid(column=0, row=3, columnspan=2, padx=10, pady=10)\n",
    "\n",
    "# Run the GUI loop\n",
    "app.mainloop()\n"
   ]
  }
 ],
 "metadata": {
  "kernelspec": {
   "display_name": "project",
   "language": "python",
   "name": "python3"
  },
  "language_info": {
   "codemirror_mode": {
    "name": "ipython",
    "version": 3
   },
   "file_extension": ".py",
   "mimetype": "text/x-python",
   "name": "python",
   "nbconvert_exporter": "python",
   "pygments_lexer": "ipython3",
   "version": "3.9.18"
  },
  "orig_nbformat": 4
 },
 "nbformat": 4,
 "nbformat_minor": 2
}
